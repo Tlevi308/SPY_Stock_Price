{
 "cells": [
  {
   "cell_type": "code",
   "execution_count": 34,
   "id": "13f063ed",
   "metadata": {},
   "outputs": [],
   "source": [
    "# Data Preprocessing"
   ]
  },
  {
   "cell_type": "code",
   "execution_count": 35,
   "id": "073874c2",
   "metadata": {},
   "outputs": [],
   "source": [
    "#importing tje liberies"
   ]
  },
  {
   "cell_type": "code",
   "execution_count": 36,
   "id": "c3f6dbd5",
   "metadata": {},
   "outputs": [],
   "source": [
    "import numpy as np\n",
    "import matplotlib.pyplot as plt\n",
    "import pandas as pd"
   ]
  },
  {
   "cell_type": "code",
   "execution_count": 37,
   "id": "7cb3b8fe",
   "metadata": {},
   "outputs": [],
   "source": [
    "# import the data trining"
   ]
  },
  {
   "cell_type": "code",
   "execution_count": 40,
   "id": "268216f7",
   "metadata": {},
   "outputs": [],
   "source": [
    "with open ('SPY1.csv') as data_train:\n",
    "    #print(data_train)\n",
    "    dataset_train = pd.read_csv('SPY1.csv')\n",
    "\n",
    "# the relevant col is [date,open] \n",
    "training_set = dataset_train.iloc[:, 1:2].values\n"
   ]
  },
  {
   "cell_type": "code",
   "execution_count": 41,
   "id": "14ba02fe",
   "metadata": {},
   "outputs": [],
   "source": [
    "#feature scalling"
   ]
  },
  {
   "cell_type": "code",
   "execution_count": 42,
   "id": "067d9b70",
   "metadata": {},
   "outputs": [],
   "source": [
    "#import libary to normalize (0-1) the price\n",
    " \n",
    "from sklearn.preprocessing import MinMaxScaler\n",
    "sc = MinMaxScaler(feature_range = (0, 1))\n",
    "training_set_scaled = sc.fit_transform(training_set)"
   ]
  },
  {
   "cell_type": "code",
   "execution_count": 44,
   "id": "2712d18b",
   "metadata": {},
   "outputs": [],
   "source": [
    "# Creating a data structure with 60 timesteps and 1 output\n",
    "\n",
    "X_train = []\n",
    "y_train = []\n",
    "for i in range(60, 735):\n",
    "    X_train.append(training_set_scaled[i-60:i, 0])\n",
    "    y_train.append(training_set_scaled[i, 0])\n",
    "X_train, y_train = np.array(X_train), np.array(y_train)"
   ]
  },
  {
   "cell_type": "code",
   "execution_count": 45,
   "id": "5a64fd45",
   "metadata": {},
   "outputs": [],
   "source": [
    "#Reshaping\n",
    "X_train = np.reshape(X_train, (X_train.shape[0], X_train.shape[1], 1))"
   ]
  },
  {
   "cell_type": "code",
   "execution_count": 46,
   "id": "5c6e0eff",
   "metadata": {},
   "outputs": [],
   "source": [
    "#Building and Training the RNN\n",
    "#Importing the Keras libraries and packages\n",
    "from keras.models import Sequential\n",
    "from keras.layers import Dense\n",
    "from keras.layers import LSTM\n",
    "from keras.layers import Dropout"
   ]
  },
  {
   "cell_type": "code",
   "execution_count": 47,
   "id": "630d9929",
   "metadata": {},
   "outputs": [],
   "source": [
    "#Initialising the RNN\n",
    "regressor = Sequential()"
   ]
  },
  {
   "cell_type": "code",
   "execution_count": 48,
   "id": "beb5ae8f",
   "metadata": {},
   "outputs": [],
   "source": [
    "#Adding the first LSTM layer and some Dropout regularisation\n",
    "regressor.add(LSTM(units = 50, return_sequences = True, input_shape = (X_train.shape[1], 1)))\n",
    "regressor.add(Dropout(0.2))"
   ]
  },
  {
   "cell_type": "code",
   "execution_count": 49,
   "id": "15547530",
   "metadata": {},
   "outputs": [],
   "source": [
    "regressor.add(LSTM(units = 50, return_sequences = True))\n",
    "regressor.add(Dropout(0.2))"
   ]
  },
  {
   "cell_type": "code",
   "execution_count": 50,
   "id": "13daeff5",
   "metadata": {},
   "outputs": [],
   "source": [
    "regressor.add(LSTM(units = 50, return_sequences = True))\n",
    "regressor.add(Dropout(0.2))"
   ]
  },
  {
   "cell_type": "code",
   "execution_count": 51,
   "id": "b90c633d",
   "metadata": {},
   "outputs": [],
   "source": [
    "regressor.add(LSTM(units = 50))\n",
    "regressor.add(Dropout(0.2))"
   ]
  },
  {
   "cell_type": "code",
   "execution_count": 52,
   "id": "1326ae54",
   "metadata": {},
   "outputs": [],
   "source": [
    "#Adding the output layer\n",
    "regressor.add(Dense(units = 1))"
   ]
  },
  {
   "cell_type": "code",
   "execution_count": 53,
   "id": "b8dd4c1a",
   "metadata": {},
   "outputs": [],
   "source": [
    "#Compiling the RNN\n",
    "regressor.compile(optimizer = 'adam', loss = 'mean_squared_error')"
   ]
  },
  {
   "cell_type": "code",
   "execution_count": 54,
   "id": "fa6ff4bd",
   "metadata": {},
   "outputs": [
    {
     "name": "stdout",
     "output_type": "stream",
     "text": [
      "Epoch 1/100\n",
      "22/22 [==============================] - 6s 55ms/step - loss: 0.0578\n",
      "Epoch 2/100\n",
      "22/22 [==============================] - 1s 52ms/step - loss: 0.0122\n",
      "Epoch 3/100\n",
      "22/22 [==============================] - 1s 51ms/step - loss: 0.0086\n",
      "Epoch 4/100\n",
      "22/22 [==============================] - 1s 52ms/step - loss: 0.0061\n",
      "Epoch 5/100\n",
      "22/22 [==============================] - 1s 55ms/step - loss: 0.0057\n",
      "Epoch 6/100\n",
      "22/22 [==============================] - 1s 60ms/step - loss: 0.0066\n",
      "Epoch 7/100\n",
      "22/22 [==============================] - 1s 57ms/step - loss: 0.0057\n",
      "Epoch 8/100\n",
      "22/22 [==============================] - 1s 51ms/step - loss: 0.0061\n",
      "Epoch 9/100\n",
      "22/22 [==============================] - 1s 51ms/step - loss: 0.0053\n",
      "Epoch 10/100\n",
      "22/22 [==============================] - 1s 52ms/step - loss: 0.0063\n",
      "Epoch 11/100\n",
      "22/22 [==============================] - 1s 52ms/step - loss: 0.0057\n",
      "Epoch 12/100\n",
      "22/22 [==============================] - 1s 52ms/step - loss: 0.0067\n",
      "Epoch 13/100\n",
      "22/22 [==============================] - 1s 53ms/step - loss: 0.0050\n",
      "Epoch 14/100\n",
      "22/22 [==============================] - 1s 58ms/step - loss: 0.0054\n",
      "Epoch 15/100\n",
      "22/22 [==============================] - 1s 58ms/step - loss: 0.0052\n",
      "Epoch 16/100\n",
      "22/22 [==============================] - 1s 52ms/step - loss: 0.0047\n",
      "Epoch 17/100\n",
      "22/22 [==============================] - 1s 51ms/step - loss: 0.0051\n",
      "Epoch 18/100\n",
      "22/22 [==============================] - 1s 52ms/step - loss: 0.0054\n",
      "Epoch 19/100\n",
      "22/22 [==============================] - 1s 52ms/step - loss: 0.0049\n",
      "Epoch 20/100\n",
      "22/22 [==============================] - 1s 51ms/step - loss: 0.0044\n",
      "Epoch 21/100\n",
      "22/22 [==============================] - 1s 51ms/step - loss: 0.0047\n",
      "Epoch 22/100\n",
      "22/22 [==============================] - 1s 56ms/step - loss: 0.0044\n",
      "Epoch 23/100\n",
      "22/22 [==============================] - 1s 64ms/step - loss: 0.0051\n",
      "Epoch 24/100\n",
      "22/22 [==============================] - 1s 52ms/step - loss: 0.0048\n",
      "Epoch 25/100\n",
      "22/22 [==============================] - 1s 51ms/step - loss: 0.0043\n",
      "Epoch 26/100\n",
      "22/22 [==============================] - 1s 52ms/step - loss: 0.0041\n",
      "Epoch 27/100\n",
      "22/22 [==============================] - 1s 52ms/step - loss: 0.0038\n",
      "Epoch 28/100\n",
      "22/22 [==============================] - 1s 51ms/step - loss: 0.0040\n",
      "Epoch 29/100\n",
      "22/22 [==============================] - 1s 51ms/step - loss: 0.0040\n",
      "Epoch 30/100\n",
      "22/22 [==============================] - 1s 51ms/step - loss: 0.0040\n",
      "Epoch 31/100\n",
      "22/22 [==============================] - 1s 52ms/step - loss: 0.0039\n",
      "Epoch 32/100\n",
      "22/22 [==============================] - 1s 61ms/step - loss: 0.0040\n",
      "Epoch 33/100\n",
      "22/22 [==============================] - 1s 53ms/step - loss: 0.0034\n",
      "Epoch 34/100\n",
      "22/22 [==============================] - 1s 51ms/step - loss: 0.0040\n",
      "Epoch 35/100\n",
      "22/22 [==============================] - 1s 51ms/step - loss: 0.0042\n",
      "Epoch 36/100\n",
      "22/22 [==============================] - 1s 50ms/step - loss: 0.0035\n",
      "Epoch 37/100\n",
      "22/22 [==============================] - 1s 51ms/step - loss: 0.0033\n",
      "Epoch 38/100\n",
      "22/22 [==============================] - 1s 49ms/step - loss: 0.0034\n",
      "Epoch 39/100\n",
      "22/22 [==============================] - 1s 53ms/step - loss: 0.0031\n",
      "Epoch 40/100\n",
      "22/22 [==============================] - 1s 66ms/step - loss: 0.0035\n",
      "Epoch 41/100\n",
      "22/22 [==============================] - 1s 55ms/step - loss: 0.0034\n",
      "Epoch 42/100\n",
      "22/22 [==============================] - 1s 50ms/step - loss: 0.0031\n",
      "Epoch 43/100\n",
      "22/22 [==============================] - 1s 50ms/step - loss: 0.0033\n",
      "Epoch 44/100\n",
      "22/22 [==============================] - 1s 50ms/step - loss: 0.0030\n",
      "Epoch 45/100\n",
      "22/22 [==============================] - 1s 51ms/step - loss: 0.0038\n",
      "Epoch 46/100\n",
      "22/22 [==============================] - 1s 50ms/step - loss: 0.0034\n",
      "Epoch 47/100\n",
      "22/22 [==============================] - 1s 50ms/step - loss: 0.0029\n",
      "Epoch 48/100\n",
      "22/22 [==============================] - 1s 48ms/step - loss: 0.0037\n",
      "Epoch 49/100\n",
      "22/22 [==============================] - 1s 62ms/step - loss: 0.0032\n",
      "Epoch 50/100\n",
      "22/22 [==============================] - 1s 48ms/step - loss: 0.0030\n",
      "Epoch 51/100\n",
      "22/22 [==============================] - 1s 48ms/step - loss: 0.0030\n",
      "Epoch 52/100\n",
      "22/22 [==============================] - 1s 48ms/step - loss: 0.0037\n",
      "Epoch 53/100\n",
      "22/22 [==============================] - 1s 48ms/step - loss: 0.0029\n",
      "Epoch 54/100\n",
      "22/22 [==============================] - 1s 48ms/step - loss: 0.0028\n",
      "Epoch 55/100\n",
      "22/22 [==============================] - 1s 48ms/step - loss: 0.0027\n",
      "Epoch 56/100\n",
      "22/22 [==============================] - 1s 49ms/step - loss: 0.0034\n",
      "Epoch 57/100\n",
      "22/22 [==============================] - 1s 53ms/step - loss: 0.0028\n",
      "Epoch 58/100\n",
      "22/22 [==============================] - 1s 62ms/step - loss: 0.0026\n",
      "Epoch 59/100\n",
      "22/22 [==============================] - 1s 60ms/step - loss: 0.0027\n",
      "Epoch 60/100\n",
      "22/22 [==============================] - 1s 55ms/step - loss: 0.0029\n",
      "Epoch 61/100\n",
      "22/22 [==============================] - 1s 51ms/step - loss: 0.0032\n",
      "Epoch 62/100\n",
      "22/22 [==============================] - 1s 49ms/step - loss: 0.0027\n",
      "Epoch 63/100\n",
      "22/22 [==============================] - 1s 48ms/step - loss: 0.0023\n",
      "Epoch 64/100\n",
      "22/22 [==============================] - 1s 48ms/step - loss: 0.0025\n",
      "Epoch 65/100\n",
      "22/22 [==============================] - 1s 49ms/step - loss: 0.0022\n",
      "Epoch 66/100\n",
      "22/22 [==============================] - 1s 49ms/step - loss: 0.0028\n",
      "Epoch 67/100\n",
      "22/22 [==============================] - 1s 57ms/step - loss: 0.0041\n",
      "Epoch 68/100\n",
      "22/22 [==============================] - 1s 49ms/step - loss: 0.0029\n",
      "Epoch 69/100\n",
      "22/22 [==============================] - 1s 50ms/step - loss: 0.0026\n",
      "Epoch 70/100\n",
      "22/22 [==============================] - 1s 55ms/step - loss: 0.0026\n",
      "Epoch 71/100\n",
      "22/22 [==============================] - 1s 53ms/step - loss: 0.0026\n",
      "Epoch 72/100\n",
      "22/22 [==============================] - 1s 52ms/step - loss: 0.0026\n",
      "Epoch 73/100\n",
      "22/22 [==============================] - 1s 49ms/step - loss: 0.0024\n",
      "Epoch 74/100\n",
      "22/22 [==============================] - 1s 50ms/step - loss: 0.0026\n",
      "Epoch 75/100\n",
      "22/22 [==============================] - 1s 52ms/step - loss: 0.0026\n",
      "Epoch 76/100\n",
      "22/22 [==============================] - 1s 62ms/step - loss: 0.0022\n",
      "Epoch 77/100\n",
      "22/22 [==============================] - 1s 52ms/step - loss: 0.0023\n",
      "Epoch 78/100\n",
      "22/22 [==============================] - 1s 51ms/step - loss: 0.0026\n",
      "Epoch 79/100\n",
      "22/22 [==============================] - 1s 51ms/step - loss: 0.0021\n",
      "Epoch 80/100\n",
      "22/22 [==============================] - 1s 49ms/step - loss: 0.0024\n",
      "Epoch 81/100\n",
      "22/22 [==============================] - 1s 48ms/step - loss: 0.0022\n",
      "Epoch 82/100\n",
      "22/22 [==============================] - 1s 48ms/step - loss: 0.0025\n",
      "Epoch 83/100\n",
      "22/22 [==============================] - 1s 54ms/step - loss: 0.0023\n",
      "Epoch 84/100\n",
      "22/22 [==============================] - 1s 52ms/step - loss: 0.0021\n",
      "Epoch 85/100\n",
      "22/22 [==============================] - 1s 55ms/step - loss: 0.0021\n",
      "Epoch 86/100\n",
      "22/22 [==============================] - 1s 48ms/step - loss: 0.0022\n",
      "Epoch 87/100\n",
      "22/22 [==============================] - 1s 48ms/step - loss: 0.0022\n",
      "Epoch 88/100\n",
      "22/22 [==============================] - 1s 47ms/step - loss: 0.0021\n",
      "Epoch 89/100\n",
      "22/22 [==============================] - 1s 49ms/step - loss: 0.0021\n",
      "Epoch 90/100\n",
      "22/22 [==============================] - 1s 48ms/step - loss: 0.0022\n",
      "Epoch 91/100\n",
      "22/22 [==============================] - 1s 49ms/step - loss: 0.0023\n",
      "Epoch 92/100\n",
      "22/22 [==============================] - 1s 53ms/step - loss: 0.0020\n",
      "Epoch 93/100\n",
      "22/22 [==============================] - 1s 61ms/step - loss: 0.0020\n",
      "Epoch 94/100\n",
      "22/22 [==============================] - 1s 56ms/step - loss: 0.0021\n",
      "Epoch 95/100\n",
      "22/22 [==============================] - 1s 52ms/step - loss: 0.0024\n",
      "Epoch 96/100\n",
      "22/22 [==============================] - 1s 51ms/step - loss: 0.0023\n",
      "Epoch 97/100\n",
      "22/22 [==============================] - 1s 53ms/step - loss: 0.0021\n",
      "Epoch 98/100\n",
      "22/22 [==============================] - 1s 52ms/step - loss: 0.0022\n",
      "Epoch 99/100\n",
      "22/22 [==============================] - 1s 53ms/step - loss: 0.0019\n",
      "Epoch 100/100\n",
      "22/22 [==============================] - 1s 56ms/step - loss: 0.0020\n"
     ]
    },
    {
     "data": {
      "text/plain": [
       "<keras.callbacks.History at 0x7fa06e149dc0>"
      ]
     },
     "execution_count": 54,
     "metadata": {},
     "output_type": "execute_result"
    }
   ],
   "source": [
    "#Fitting the RNN to the Training set\n",
    "regressor.fit(X_train, y_train, epochs = 100, batch_size = 32)"
   ]
  },
  {
   "cell_type": "code",
   "execution_count": 55,
   "id": "0b4312a3",
   "metadata": {},
   "outputs": [],
   "source": [
    "#Making the predictions and visualising the results"
   ]
  },
  {
   "cell_type": "code",
   "execution_count": 56,
   "id": "4d52d154",
   "metadata": {},
   "outputs": [],
   "source": [
    "#Getting the real stock price jan 13 - feb 13\n",
    "dataset_test = pd.read_csv('SPY2.csv')\n",
    "real_stock_price = dataset_test.iloc[:, 1:2].values"
   ]
  },
  {
   "cell_type": "code",
   "execution_count": 57,
   "id": "424e7ac1",
   "metadata": {},
   "outputs": [],
   "source": [
    "#Getting the predicted stock price\n",
    "dataset_total = pd.concat((dataset_train['Open'], dataset_test['Open']), axis = 0)\n",
    "inputs = dataset_total[len(dataset_total) - len(dataset_test) - 60:].values\n",
    "inputs = inputs.reshape(-1,1)\n",
    "inputs = sc.transform(inputs)\n",
    "X_test = []\n",
    "for i in range(60, 80):\n",
    "    X_test.append(inputs[i-60:i, 0])\n",
    "X_test = np.array(X_test)\n",
    "X_test = np.reshape(X_test, (X_test.shape[0], X_test.shape[1], 1))\n",
    "predicted_stock_price = regressor.predict(X_test)\n",
    "predicted_stock_price = sc.inverse_transform(predicted_stock_price)"
   ]
  },
  {
   "cell_type": "code",
   "execution_count": 58,
   "id": "e4178ab2",
   "metadata": {},
   "outputs": [
    {
     "data": {
      "image/png": "[encoded data removed]",
      "text/plain": [
       "<Figure size 432x288 with 1 Axes>"
      ]
     },
     "metadata": {
      "needs_background": "light"
     },
     "output_type": "display_data"
    }
   ],
   "source": [
    "#Visualising the results\n",
    "\n",
    "plt.plot(real_stock_price, color = 'red', label = 'Real SPY Stock Price')\n",
    "plt.plot(predicted_stock_price, color = 'blue', label = 'Predicted SPY Stock Price')\n",
    "plt.title('SPY Stock Price Prediction')\n",
    "plt.xlabel('Time')\n",
    "plt.ylabel('SPY Stock Price')\n",
    "plt.legend()\n",
    "plt.show()"
   ]
  },
  {
   "cell_type": "code",
   "execution_count": null,
   "id": "b80286bb",
   "metadata": {},
   "outputs": [],
   "source": []
  }
 ],
 "metadata": {
  "kernelspec": {
   "display_name": "Python 3 (ipykernel)",
   "language": "python",
   "name": "python3"
  },
  "language_info": {
   "codemirror_mode": {
    "name": "ipython",
    "version": 3
   },
   "file_extension": ".py",
   "mimetype": "text/x-python",
   "name": "python",
   "nbconvert_exporter": "python",
   "pygments_lexer": "ipython3",
   "version": "3.9.2"
  }
 },
 "nbformat": 4,
 "nbformat_minor": 5
}
